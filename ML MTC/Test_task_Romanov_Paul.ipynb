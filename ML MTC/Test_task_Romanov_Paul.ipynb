{
 "cells": [
  {
   "cell_type": "code",
   "execution_count": 1,
   "metadata": {},
   "outputs": [],
   "source": [
    "from sklearn.feature_extraction.text import TfidfVectorizer\n",
    "from sklearn import model_selection, metrics, ensemble\n",
    "from urllib.request import urlretrieve\n",
    "import matplotlib.pyplot as plt\n",
    "import xgboost as xg\n",
    "import pandas as pd\n",
    "import stop_words\n",
    "import itertools\n",
    "import textblob\n",
    "import string\n",
    "import numpy\n",
    "import os"
   ]
  },
  {
   "cell_type": "markdown",
   "metadata": {},
   "source": [
    "## Загрузка и обработка датасета:\n",
    "* Загрузка датасета\n",
    "* Очистка текстов от тэгов \"### tag ###\"\n",
    "* Очитска текстов от чисел, знаков препринания и стоп-слов + лемматизация\n",
    "* Преобразование датасета к виду ['МЕТКА', 'текст']"
   ]
  },
  {
   "cell_type": "code",
   "execution_count": 2,
   "metadata": {},
   "outputs": [],
   "source": [
    "def open_data_set(dataset_path):\n",
    "    try:\n",
    "        dataset = [open(os.path.join(dataset_path, filename), 'r').read()\n",
    "                   for filename in os.listdir(dataset_path)\n",
    "                   if filename.endswith(\".txt\")]\n",
    "        return dataset\n",
    "    except Exception as e:\n",
    "        print(e)\n",
    "    raise SystemExit"
   ]
  },
  {
   "cell_type": "code",
   "execution_count": 3,
   "metadata": {},
   "outputs": [],
   "source": [
    "def clear_tags(dataset, tag):\n",
    "    if dataset:\n",
    "        output = []\n",
    "        for text_ in dataset:\n",
    "            while tag in text_:\n",
    "                ind1 = text_.find(tag)\n",
    "                ind2 = text_[ind1 + len(tag):].find(tag) + len(tag) * 2 + ind1\n",
    "                text_ = text_[:ind1] + text_[ind2 + 1:]\n",
    "            output.append(text_.replace(\"\\t\", ' ').\n",
    "                          replace(\"--\", ' ').\n",
    "                          replace(\"  \", ' '))\n",
    "        return output       #  ['text1', 'text2'...]\n",
    "    else:\n",
    "        print(\"No dataset\")"
   ]
  },
  {
   "cell_type": "code",
   "execution_count": 4,
   "metadata": {},
   "outputs": [],
   "source": [
    "def remove_noise(input_text):\n",
    "    table = str.maketrans(\"\", \"\", string.punctuation + \"1234567890\")\n",
    "    punct_free_text = input_text.translate(table)\n",
    "    noise_list = stop_words.get_stop_words(\"en\") + [\"et\", \"al\", \"eg\", \"le\"]\n",
    "    words = punct_free_text.split()\n",
    "    noise_free_words = [textblob.Word(word).lemmatize() for word in words if word not in noise_list]\n",
    "    noise_free_text = \" \".join(noise_free_words)\n",
    "    return noise_free_text.strip()"
   ]
  },
  {
   "cell_type": "code",
   "execution_count": 5,
   "metadata": {},
   "outputs": [],
   "source": [
    "def generate_dataset(dataset):\n",
    "    if dataset:\n",
    "        digested_dataset = []\n",
    "        for text in dataset:\n",
    "            for line in text.split('\\n'):\n",
    "                pair = [line[:line.find(' ')], remove_noise(line[line.find(' ') + 1:].lower())] # [label: digested_text]\n",
    "                digested_dataset.append(pair)\n",
    "        return digested_dataset"
   ]
  },
  {
   "cell_type": "markdown",
   "metadata": {},
   "source": [
    "### Ограничение кол-ва сэмплов отпределенного класса"
   ]
  },
  {
   "cell_type": "code",
   "execution_count": 6,
   "metadata": {},
   "outputs": [],
   "source": [
    "def cutLabel(data, label, n):\n",
    "    output = []\n",
    "    for x in data:\n",
    "        if x[0] == label and n != 0:\n",
    "            output.append(x)\n",
    "            n -= 1\n",
    "        elif x[0] != label:\n",
    "            output.append(x)\n",
    "    return output"
   ]
  },
  {
   "cell_type": "markdown",
   "metadata": {},
   "source": [
    "### Построение ROC-кривых и Confussion матрицы"
   ]
  },
  {
   "cell_type": "code",
   "execution_count": 7,
   "metadata": {},
   "outputs": [],
   "source": [
    "def plot_ROC(classes, test_lbl, prediciton):\n",
    "    fpr = dict()\n",
    "    tpr = dict()\n",
    "    roc_auc = dict()\n",
    "    for i in range(len(classes)):\n",
    "        fpr[i], tpr[i], _ = metrics.roc_curve(numpy.array(pd.get_dummies(test_lbl))[:, i],\n",
    "                                              numpy.array(pd.get_dummies(prediciton))[:, i])\n",
    "        roc_auc[i] = metrics.auc(fpr[i], tpr[i])\n",
    "    plt.plot([0, 1], [0, 1], 'k--', color='red', lw=3)\n",
    "    colors = ['darkblue', 'orange', 'darkgreen', 'red', 'cyan']\n",
    "    for i, color in zip(range(len(classes)), colors):\n",
    "        plt.plot(fpr[i], tpr[i], color=color, lw=3, label='{0}; Area = {1:0.2f})'.format(classes[i], roc_auc[i]))\n",
    "    plt.xlim([0.0, 1.0])\n",
    "    plt.ylim([0.0, 1.0])\n",
    "    plt.xlabel(\"False positive\")\n",
    "    plt.ylabel(\"True Positive\")\n",
    "    plt.legend(loc=\"lower center\")\n",
    "    plt.show()"
   ]
  },
  {
   "cell_type": "code",
   "execution_count": 8,
   "metadata": {},
   "outputs": [],
   "source": [
    "def plotConfMatrix(test_lbl, result, classes):\n",
    "    conf_mtrx = metrics.confusion_matrix(test_lbl, result)\n",
    "    plt.figure()\n",
    "    plt.imshow(conf_mtrx, interpolation='nearest', cmap=\"Reds\")\n",
    "    for i, j in itertools.product(range(conf_mtrx.shape[0]), range(conf_mtrx.shape[1])):\n",
    "        plt.text(j, i, format(conf_mtrx[i, j], 'd'),\n",
    "                 horizontalalignment=\"center\")\n",
    "    tick_marks = numpy.arange(len(classes))\n",
    "    plt.xticks(tick_marks, classes)\n",
    "    plt.yticks(tick_marks, classes)\n",
    "    plt.ylabel('True label')\n",
    "    plt.xlabel('Predicted label',)\n",
    "    plt.tight_layout()\n",
    "    plt.show()"
   ]
  },
  {
   "cell_type": "markdown",
   "metadata": {},
   "source": [
    "## Обучение классификатора\n",
    "#### Выбранный алгоритм - Xtreme Gradient Boosting\n",
    "Причина выбора:\n",
    "* Скорость обучения\n",
    "* [Результаты исследований(бенчмарка)](http://datascience.la/benchmarking-random-forest-implementations/)\n",
    "* Алгоритм показал наилучший результат в сравнении с другими опробыванными алгоритмами (RF, Linear) \n",
    "\n",
    "Параметры классификатора были подобраны эмпирически, а так же исходя из: \n",
    "* соотношения количества элементов разных классов в обучающей выборке\n",
    "* размера датасета\n",
    "* количества уникальных слов(features)"
   ]
  },
  {
   "cell_type": "code",
   "execution_count": 9,
   "metadata": {
    "scrolled": true
   },
   "outputs": [
    {
     "name": "stdout",
     "output_type": "stream",
     "text": [
      "elems in DF:  2192\n",
      "dataframe labels:\n",
      " AIMX BASE CONT MISC OWNX\n",
      " 194 61 170 900 867\n",
      "train_labels:\n",
      " AIMX BASE CONT MISC OWNX\n",
      " 141 46 133 675 649\n",
      "num of features:  512\n"
     ]
    }
   ],
   "source": [
    "# загрузка и предобработка датасета\n",
    "data = generate_dataset(\n",
    "    clear_tags(\n",
    "        open_data_set(\"labeled_articles\"), \"###\"))\n",
    "\n",
    "# обрезка кол-ва предложений с тэгом \"MISC\" до 900\n",
    "data = cutLabel(data, \"MISC\", 900)\n",
    "\n",
    "# создание датафрейма\n",
    "TrainDF = pd.DataFrame()\n",
    "TrainDF['label'] = [element[0] for element in data]\n",
    "TrainDF['text'] = [element[1] for element in data]\n",
    "\n",
    "# удаление пустых строк\n",
    "TrainDF = TrainDF[TrainDF.label != '']\n",
    "\n",
    "# кол-во элементов в выборке\n",
    "print(\"elems in DF: \", len(TrainDF['text']))\n",
    "# labels и их частота\n",
    "print(\"dataframe labels:\\n\", ' '.join(numpy.unique(TrainDF['label'], return_counts=True)[0]) + \"\\n\" + ' ' +\n",
    "                              ' '.join([str(elem) for elem in numpy.unique(TrainDF['label'], return_counts=True)[1]]))\n",
    "\n",
    "# обрезка самых частых слов\n",
    "freq_list = pd.Series(\" \".join(TrainDF['text']).split()).value_counts()\n",
    "most_freq = list(freq_list[:2].index)  # 2\n",
    "TrainDF['text'] = TrainDF['text'].apply(lambda x: \" \".join(x for x in x.split() if x not in most_freq))\n",
    "\n",
    "# разделение на обучающие и тестовые выборки\n",
    "train_txt, test_txt, train_lbl, test_lbl = model_selection.train_test_split(TrainDF[\"text\"],\n",
    "                                                                            TrainDF[\"label\"],\n",
    "                                                                            test_size=0.25)\n",
    "# кол-во элементов каждого класса в обучающей выборке\n",
    "print(\"train_labels:\\n\", ' '.join(numpy.unique(train_lbl, return_counts=True)[0]) + \"\\n\" + ' ' +\n",
    "                        ' '.join([str(elem) for elem in numpy.unique(train_lbl, return_counts=True)[1]]))\n",
    "\n",
    "# tf-idf векторизация\n",
    "tfidf_vect = TfidfVectorizer(analyzer='word', token_pattern=r'\\w{1,}', max_features=512)\n",
    "tfidf_vect.fit(TrainDF['text'])\n",
    "xtrain_tfidf = tfidf_vect.transform(train_txt)\n",
    "xtest_tfidf = tfidf_vect.transform(test_txt)\n",
    "\n",
    "# количество уникальных черт(features)\n",
    "print(\"num of features: \", len(tfidf_vect.get_feature_names()))\n",
    "\n",
    "#обучение классификатора\n",
    "classifier = xg.XGBClassifier(max_depth=15, learning_rate=0.1, n_estimators=128)\n",
    "classifier.fit(xtrain_tfidf.tocsc(), train_lbl)\n",
    "prediction = classifier.predict(xtest_tfidf.tocsc())"
   ]
  },
  {
   "cell_type": "markdown",
   "metadata": {},
   "source": [
    "## Метрика\n",
    "* **ROC кривые**:"
   ]
  },
  {
   "cell_type": "code",
   "execution_count": 10,
   "metadata": {},
   "outputs": [
    {
     "data": {
      "image/png": "[encoded data removed]",
      "text/plain": [
       "<Figure size 432x288 with 1 Axes>"
      ]
     },
     "metadata": {
      "needs_background": "light"
     },
     "output_type": "display_data"
    }
   ],
   "source": [
    "plot_ROC(numpy.unique(TrainDF['label']), test_lbl, prediction)"
   ]
  },
  {
   "cell_type": "markdown",
   "metadata": {},
   "source": [
    "* **Confusion матрица:**"
   ]
  },
  {
   "cell_type": "code",
   "execution_count": 11,
   "metadata": {},
   "outputs": [
    {
     "data": {
      "image/png": "[encoded data removed]",
      "text/plain": [
       "<Figure size 432x288 with 1 Axes>"
      ]
     },
     "metadata": {
      "needs_background": "light"
     },
     "output_type": "display_data"
    }
   ],
   "source": [
    "plotConfMatrix(test_lbl, prediction, numpy.unique(TrainDF['label']))"
   ]
  },
  {
   "cell_type": "markdown",
   "metadata": {},
   "source": [
    "* **Точность классификации:**"
   ]
  },
  {
   "cell_type": "code",
   "execution_count": 12,
   "metadata": {},
   "outputs": [
    {
     "data": {
      "text/plain": [
       "0.84"
      ]
     },
     "execution_count": 12,
     "metadata": {},
     "output_type": "execute_result"
    }
   ],
   "source": [
    "round(metrics.accuracy_score(test_lbl, prediction), 2)"
   ]
  },
  {
   "cell_type": "markdown",
   "metadata": {},
   "source": [
    "* **Сравнение с случайным выбором (**_Cohen's Kappa_**):**"
   ]
  },
  {
   "cell_type": "code",
   "execution_count": 13,
   "metadata": {},
   "outputs": [
    {
     "data": {
      "text/plain": [
       "0.75"
      ]
     },
     "execution_count": 13,
     "metadata": {},
     "output_type": "execute_result"
    }
   ],
   "source": [
    "round(metrics.cohen_kappa_score(test_lbl, prediction), 2)"
   ]
  }
 ],
 "metadata": {
  "kernelspec": {
   "display_name": "Python 3",
   "language": "python",
   "name": "python3"
  },
  "language_info": {
   "codemirror_mode": {
    "name": "ipython",
    "version": 3
   },
   "file_extension": ".py",
   "mimetype": "text/x-python",
   "name": "python",
   "nbconvert_exporter": "python",
   "pygments_lexer": "ipython3",
   "version": "3.5.1"
  }
 },
 "nbformat": 4,
 "nbformat_minor": 2
}
